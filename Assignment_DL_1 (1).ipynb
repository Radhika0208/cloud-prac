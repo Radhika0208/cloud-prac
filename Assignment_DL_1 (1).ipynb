{
  "nbformat": 4,
  "nbformat_minor": 0,
  "metadata": {
    "colab": {
      "name": "Assignment_DL_1.ipynb",
      "provenance": [],
      "collapsed_sections": []
    },
    "kernelspec": {
      "name": "python3",
      "display_name": "Python 3"
    },
    "language_info": {
      "name": "python"
    }
  },
  "cells": [
    {
      "cell_type": "code",
      "execution_count": 35,
      "metadata": {
        "id": "7xB9QoqcyWcu"
      },
      "outputs": [],
      "source": [
        "#importing required libraries \n",
        "import numpy as np\n",
        "import pandas as pd\n",
        "from sklearn.datasets import load_diabetes\n",
        "import matplotlib.pyplot as plt\n",
        "%matplotlib inline\n"
      ]
    },
    {
      "cell_type": "code",
      "source": [
        "data = load_diabetes()"
      ],
      "metadata": {
        "id": "LtnTsaAVyalS"
      },
      "execution_count": 36,
      "outputs": []
    },
    {
      "cell_type": "code",
      "source": [
        "df = pd.DataFrame(data.data, columns = data.feature_names)\n",
        "#df['Target'] = pd.Series(data.target)\n",
        "df['sex']=data.target"
      ],
      "metadata": {
        "id": "rxVjwJah2p0k"
      },
      "execution_count": 68,
      "outputs": []
    },
    {
      "cell_type": "code",
      "source": [
        "df.head()"
      ],
      "metadata": {
        "colab": {
          "base_uri": "https://localhost:8080/",
          "height": 206
        },
        "id": "CK8ynI4j5z-h",
        "outputId": "4b2a90da-6ffe-4b69-873f-99e9ef2cb5e5"
      },
      "execution_count": 69,
      "outputs": [
        {
          "output_type": "execute_result",
          "data": {
            "text/plain": [
              "        age    sex       bmi        bp        s1        s2        s3  \\\n",
              "0  0.038076  151.0  0.061696  0.021872 -0.044223 -0.034821 -0.043401   \n",
              "1 -0.001882   75.0 -0.051474 -0.026328 -0.008449 -0.019163  0.074412   \n",
              "2  0.085299  141.0  0.044451 -0.005671 -0.045599 -0.034194 -0.032356   \n",
              "3 -0.089063  206.0 -0.011595 -0.036656  0.012191  0.024991 -0.036038   \n",
              "4  0.005383  135.0 -0.036385  0.021872  0.003935  0.015596  0.008142   \n",
              "\n",
              "         s4        s5        s6  \n",
              "0 -0.002592  0.019908 -0.017646  \n",
              "1 -0.039493 -0.068330 -0.092204  \n",
              "2 -0.002592  0.002864 -0.025930  \n",
              "3  0.034309  0.022692 -0.009362  \n",
              "4 -0.002592 -0.031991 -0.046641  "
            ],
            "text/html": [
              "\n",
              "  <div id=\"df-e21d0f82-f156-4722-b4eb-797a1245d110\">\n",
              "    <div class=\"colab-df-container\">\n",
              "      <div>\n",
              "<style scoped>\n",
              "    .dataframe tbody tr th:only-of-type {\n",
              "        vertical-align: middle;\n",
              "    }\n",
              "\n",
              "    .dataframe tbody tr th {\n",
              "        vertical-align: top;\n",
              "    }\n",
              "\n",
              "    .dataframe thead th {\n",
              "        text-align: right;\n",
              "    }\n",
              "</style>\n",
              "<table border=\"1\" class=\"dataframe\">\n",
              "  <thead>\n",
              "    <tr style=\"text-align: right;\">\n",
              "      <th></th>\n",
              "      <th>age</th>\n",
              "      <th>sex</th>\n",
              "      <th>bmi</th>\n",
              "      <th>bp</th>\n",
              "      <th>s1</th>\n",
              "      <th>s2</th>\n",
              "      <th>s3</th>\n",
              "      <th>s4</th>\n",
              "      <th>s5</th>\n",
              "      <th>s6</th>\n",
              "    </tr>\n",
              "  </thead>\n",
              "  <tbody>\n",
              "    <tr>\n",
              "      <th>0</th>\n",
              "      <td>0.038076</td>\n",
              "      <td>151.0</td>\n",
              "      <td>0.061696</td>\n",
              "      <td>0.021872</td>\n",
              "      <td>-0.044223</td>\n",
              "      <td>-0.034821</td>\n",
              "      <td>-0.043401</td>\n",
              "      <td>-0.002592</td>\n",
              "      <td>0.019908</td>\n",
              "      <td>-0.017646</td>\n",
              "    </tr>\n",
              "    <tr>\n",
              "      <th>1</th>\n",
              "      <td>-0.001882</td>\n",
              "      <td>75.0</td>\n",
              "      <td>-0.051474</td>\n",
              "      <td>-0.026328</td>\n",
              "      <td>-0.008449</td>\n",
              "      <td>-0.019163</td>\n",
              "      <td>0.074412</td>\n",
              "      <td>-0.039493</td>\n",
              "      <td>-0.068330</td>\n",
              "      <td>-0.092204</td>\n",
              "    </tr>\n",
              "    <tr>\n",
              "      <th>2</th>\n",
              "      <td>0.085299</td>\n",
              "      <td>141.0</td>\n",
              "      <td>0.044451</td>\n",
              "      <td>-0.005671</td>\n",
              "      <td>-0.045599</td>\n",
              "      <td>-0.034194</td>\n",
              "      <td>-0.032356</td>\n",
              "      <td>-0.002592</td>\n",
              "      <td>0.002864</td>\n",
              "      <td>-0.025930</td>\n",
              "    </tr>\n",
              "    <tr>\n",
              "      <th>3</th>\n",
              "      <td>-0.089063</td>\n",
              "      <td>206.0</td>\n",
              "      <td>-0.011595</td>\n",
              "      <td>-0.036656</td>\n",
              "      <td>0.012191</td>\n",
              "      <td>0.024991</td>\n",
              "      <td>-0.036038</td>\n",
              "      <td>0.034309</td>\n",
              "      <td>0.022692</td>\n",
              "      <td>-0.009362</td>\n",
              "    </tr>\n",
              "    <tr>\n",
              "      <th>4</th>\n",
              "      <td>0.005383</td>\n",
              "      <td>135.0</td>\n",
              "      <td>-0.036385</td>\n",
              "      <td>0.021872</td>\n",
              "      <td>0.003935</td>\n",
              "      <td>0.015596</td>\n",
              "      <td>0.008142</td>\n",
              "      <td>-0.002592</td>\n",
              "      <td>-0.031991</td>\n",
              "      <td>-0.046641</td>\n",
              "    </tr>\n",
              "  </tbody>\n",
              "</table>\n",
              "</div>\n",
              "      <button class=\"colab-df-convert\" onclick=\"convertToInteractive('df-e21d0f82-f156-4722-b4eb-797a1245d110')\"\n",
              "              title=\"Convert this dataframe to an interactive table.\"\n",
              "              style=\"display:none;\">\n",
              "        \n",
              "  <svg xmlns=\"http://www.w3.org/2000/svg\" height=\"24px\"viewBox=\"0 0 24 24\"\n",
              "       width=\"24px\">\n",
              "    <path d=\"M0 0h24v24H0V0z\" fill=\"none\"/>\n",
              "    <path d=\"M18.56 5.44l.94 2.06.94-2.06 2.06-.94-2.06-.94-.94-2.06-.94 2.06-2.06.94zm-11 1L8.5 8.5l.94-2.06 2.06-.94-2.06-.94L8.5 2.5l-.94 2.06-2.06.94zm10 10l.94 2.06.94-2.06 2.06-.94-2.06-.94-.94-2.06-.94 2.06-2.06.94z\"/><path d=\"M17.41 7.96l-1.37-1.37c-.4-.4-.92-.59-1.43-.59-.52 0-1.04.2-1.43.59L10.3 9.45l-7.72 7.72c-.78.78-.78 2.05 0 2.83L4 21.41c.39.39.9.59 1.41.59.51 0 1.02-.2 1.41-.59l7.78-7.78 2.81-2.81c.8-.78.8-2.07 0-2.86zM5.41 20L4 18.59l7.72-7.72 1.47 1.35L5.41 20z\"/>\n",
              "  </svg>\n",
              "      </button>\n",
              "      \n",
              "  <style>\n",
              "    .colab-df-container {\n",
              "      display:flex;\n",
              "      flex-wrap:wrap;\n",
              "      gap: 12px;\n",
              "    }\n",
              "\n",
              "    .colab-df-convert {\n",
              "      background-color: #E8F0FE;\n",
              "      border: none;\n",
              "      border-radius: 50%;\n",
              "      cursor: pointer;\n",
              "      display: none;\n",
              "      fill: #1967D2;\n",
              "      height: 32px;\n",
              "      padding: 0 0 0 0;\n",
              "      width: 32px;\n",
              "    }\n",
              "\n",
              "    .colab-df-convert:hover {\n",
              "      background-color: #E2EBFA;\n",
              "      box-shadow: 0px 1px 2px rgba(60, 64, 67, 0.3), 0px 1px 3px 1px rgba(60, 64, 67, 0.15);\n",
              "      fill: #174EA6;\n",
              "    }\n",
              "\n",
              "    [theme=dark] .colab-df-convert {\n",
              "      background-color: #3B4455;\n",
              "      fill: #D2E3FC;\n",
              "    }\n",
              "\n",
              "    [theme=dark] .colab-df-convert:hover {\n",
              "      background-color: #434B5C;\n",
              "      box-shadow: 0px 1px 3px 1px rgba(0, 0, 0, 0.15);\n",
              "      filter: drop-shadow(0px 1px 2px rgba(0, 0, 0, 0.3));\n",
              "      fill: #FFFFFF;\n",
              "    }\n",
              "  </style>\n",
              "\n",
              "      <script>\n",
              "        const buttonEl =\n",
              "          document.querySelector('#df-e21d0f82-f156-4722-b4eb-797a1245d110 button.colab-df-convert');\n",
              "        buttonEl.style.display =\n",
              "          google.colab.kernel.accessAllowed ? 'block' : 'none';\n",
              "\n",
              "        async function convertToInteractive(key) {\n",
              "          const element = document.querySelector('#df-e21d0f82-f156-4722-b4eb-797a1245d110');\n",
              "          const dataTable =\n",
              "            await google.colab.kernel.invokeFunction('convertToInteractive',\n",
              "                                                     [key], {});\n",
              "          if (!dataTable) return;\n",
              "\n",
              "          const docLinkHtml = 'Like what you see? Visit the ' +\n",
              "            '<a target=\"_blank\" href=https://colab.research.google.com/notebooks/data_table.ipynb>data table notebook</a>'\n",
              "            + ' to learn more about interactive tables.';\n",
              "          element.innerHTML = '';\n",
              "          dataTable['output_type'] = 'display_data';\n",
              "          await google.colab.output.renderOutput(dataTable, element);\n",
              "          const docLink = document.createElement('div');\n",
              "          docLink.innerHTML = docLinkHtml;\n",
              "          element.appendChild(docLink);\n",
              "        }\n",
              "      </script>\n",
              "    </div>\n",
              "  </div>\n",
              "  "
            ]
          },
          "metadata": {},
          "execution_count": 69
        }
      ]
    },
    {
      "cell_type": "code",
      "source": [
        "X = df['bmi'].values\n",
        "Y = df['sex'].values\n"
      ],
      "metadata": {
        "id": "BUAcpbn86fhd"
      },
      "execution_count": 70,
      "outputs": []
    },
    {
      "cell_type": "code",
      "source": [
        "mean_x = np.mean(X)\n",
        "mean_y = np.mean(Y)\n",
        "mean_x\n",
        "mean_y"
      ],
      "metadata": {
        "colab": {
          "base_uri": "https://localhost:8080/"
        },
        "id": "3bEKDQCk9Dut",
        "outputId": "0f31f655-f94b-4159-83a8-68ae6ad32bd4"
      },
      "execution_count": 71,
      "outputs": [
        {
          "output_type": "execute_result",
          "data": {
            "text/plain": [
              "152.13348416289594"
            ]
          },
          "metadata": {},
          "execution_count": 71
        }
      ]
    },
    {
      "cell_type": "code",
      "source": [
        "#total no of input values \n",
        "m =len(X)\n",
        "\n",
        "#finding values of c and m  \n",
        "numerator = 0\n",
        "denominator = 0\n",
        "for i in range(m):\n",
        "  numerator += (X[i] - mean_x) * (Y[i] - mean_y)\n",
        "  denominator += (X[i] - mean_x) ** 2\n",
        "m = numerator / denominator\n",
        "c = mean_y - (m * mean_x)\n",
        "\n",
        "print (f'interception = {m} \\n coefficient = {c}')\n"
      ],
      "metadata": {
        "colab": {
          "base_uri": "https://localhost:8080/"
        },
        "id": "dTneBWlb99ax",
        "outputId": "cf1ab1ef-9f4c-48ba-d2ee-43df4989ea80"
      },
      "execution_count": 81,
      "outputs": [
        {
          "output_type": "stream",
          "name": "stdout",
          "text": [
            "interception = 949.4352603839494 \n",
            " coefficient = 152.1334841628967\n"
          ]
        }
      ]
    },
    {
      "cell_type": "code",
      "source": [
        "# plotting values and regression line\n",
        "#max_x = np.max(X) + 100\n",
        "#min_x = np.min(X) - 100\n",
        "\n",
        "# calculating line values x and y\n",
        "#x = np.linspace (min_x, max_x, 100)\n",
        "#y = c + m * x\n",
        "#y\n",
        "#plt.plot(x, y, color='#58b970', label='Regression Line')\n",
        "#plt.scatter(X, Y, c='#ef5423', label='data points')\n",
        "\n",
        "#plt.xlabel('age of patient')\n",
        "#plt.ylabel('Target')\n",
        "#plt.legend()\n",
        "#plt.show()"
      ],
      "metadata": {
        "id": "E7ec4Rot_-v0"
      },
      "execution_count": 75,
      "outputs": []
    },
    {
      "cell_type": "code",
      "source": [
        "y=m*X+c\n",
        "y"
      ],
      "metadata": {
        "colab": {
          "base_uri": "https://localhost:8080/"
        },
        "id": "9phAdHN9rZVf",
        "outputId": "50f07b1e-9099-4d16-fcb5-79d107433adb"
      },
      "execution_count": 82,
      "outputs": [
        {
          "output_type": "execute_result",
          "data": {
            "text/plain": [
              "array([210.71003806, 103.26219543, 194.33703347, 141.12476855,\n",
              "       117.58857445, 113.4953233 , 107.35544658, 150.33458363,\n",
              "       210.71003806, 189.22046954,  72.56281182, 168.7542138 ,\n",
              "       124.75176395, 150.33458363, 127.82170232, 134.98489182,\n",
              "       192.2904079 , 163.63764986, 142.14808133, 134.98489182,\n",
              "        98.14563149, 130.89164068, 148.28795806, 209.68672528,\n",
              "       186.15053118, 140.10145576,  78.70268854, 208.66341249,\n",
              "       131.91495346, 146.24133248, 194.33703347,  89.9591292 ,\n",
              "       271.0854925 , 104.28550821,  92.00575477, 122.70513838,\n",
              "       173.87077773, 162.61433707, 219.91985315, 165.68427544,\n",
              "       144.19470691,  87.91250362, 142.14808133, 129.86832789,\n",
              "       216.84991479, 118.61188723, 141.12476855,  82.79593969,\n",
              "       112.47201051, 165.68427544, 145.2180197 , 167.73090101,\n",
              "       143.17139412, 137.0315174 , 175.91740331, 105.308821  ,\n",
              "       191.26709511,  92.00575477,  90.98244198, 127.82170232,\n",
              "       148.28795806, 156.47446035, 145.2180197 , 116.56526166,\n",
              "       127.82170232, 128.8450151 , 134.98489182, 138.05483019,\n",
              "       123.72845117, 108.37875936,  85.86587805, 184.1039056 ,\n",
              "       148.28795806, 132.93826625, 154.42783478, 122.70513838,\n",
              "       178.98734167, 117.58857445,  97.12231871, 116.56526166,\n",
              "       163.63764986, 130.89164068, 118.61188723, 161.59102429,\n",
              "       114.51863608, 219.91985315,  80.74931411, 146.24133248,\n",
              "       113.4953233 , 106.33213379, 127.82170232, 201.50022298,\n",
              "       156.47446035,  90.98244198, 136.00820461,  97.12231871,\n",
              "       161.59102429, 236.29285774, 147.26464527,  90.98244198,\n",
              "       168.7542138 , 109.40207215, 178.98734167, 191.26709511,\n",
              "       213.77997642, 121.68182559,  79.72600133, 199.45359741,\n",
              "       195.36034626, 143.17139412, 121.68182559, 156.47446035,\n",
              "       171.82415216, 165.68427544, 256.75911348, 153.40452199,\n",
              "       207.6400997 , 131.91495346, 142.14808133, 107.35544658,\n",
              "       156.47446035, 168.7542138 , 229.12966823, 185.12721839,\n",
              "       174.89409052, 144.19470691,  94.05238034, 150.33458363,\n",
              "        93.02906756, 167.73090101, 243.45604725,  85.86587805,\n",
              "       131.91495346, 101.21556985, 193.31372068, 205.59347413,\n",
              "        74.60943739, 199.45359741, 257.78242627, 210.71003806,\n",
              "       165.68427544, 197.40697183, 163.63764986, 157.49777314,\n",
              "       196.38365905, 274.15543086, 208.66341249, 240.38610889,\n",
              "       166.70758822, 147.26464527, 218.89654036, 148.28795806,\n",
              "       151.35789642, 110.42538494, 171.82415216, 209.68672528,\n",
              "       142.14808133, 120.65851281,  89.9591292 , 193.31372068,\n",
              "        93.02906756, 212.75666364, 181.03396724, 220.94316593,\n",
              "       133.96157904,  88.93581641,  95.07569313, 217.87322757,\n",
              "       208.66341249, 126.79838953, 132.93826625, 108.37875936,\n",
              "       219.91985315,  76.65606297, 161.59102429, 115.54194887,\n",
              "       170.80083937, 177.96402888, 144.19470691, 137.0315174 ,\n",
              "       156.47446035, 111.44869772, 157.49777314, 118.61188723,\n",
              "       174.89409052, 134.98489182, 192.2904079 , 100.19225707,\n",
              "       149.31127084,  88.93581641, 140.10145576, 112.47201051,\n",
              "       122.70513838, 147.26464527,  96.09900592, 175.91740331,\n",
              "       108.37875936, 155.45114757, 203.54684855, 109.40207215,\n",
              "        97.12231871,  99.16894428, 153.40452199, 181.03396724,\n",
              "       158.52108593, 196.38365905, 176.94071609, 195.36034626,\n",
              "       190.24378232, 134.98489182, 165.68427544, 187.17384396,\n",
              "       155.45114757,  84.84256526, 120.65851281, 241.40942167,\n",
              "       186.15053118, 182.05728003,  89.9591292 , 112.47201051,\n",
              "       114.51863608, 115.54194887, 127.82170232, 129.86832789,\n",
              "        88.93581641, 183.08059281, 108.37875936, 123.72845117,\n",
              "       140.10145576, 137.0315174 , 219.91985315, 122.70513838,\n",
              "       152.3812092 , 187.17384396, 189.22046954, 138.05483019,\n",
              "       158.52108593,  86.88919084, 143.17139412, 170.80083937,\n",
              "       222.98979151, 144.19470691, 129.86832789, 108.37875936,\n",
              "       203.54684855, 118.61188723, 121.68182559,  74.60943739,\n",
              "       197.40697183, 209.68672528, 205.59347413, 245.50267282,\n",
              "       208.66341249, 184.1039056 , 205.59347413,  89.9591292 ,\n",
              "       304.85481447,  99.16894428, 128.8450151 , 117.58857445,\n",
              "       144.19470691, 112.47201051, 273.13211807,  78.70268854,\n",
              "       178.98734167, 127.82170232,  93.02906756, 151.35789642,\n",
              "       236.29285774, 121.68182559, 181.03396724, 160.5677115 ,\n",
              "       158.52108593, 132.93826625, 128.8450151 , 141.12476855,\n",
              "       176.94071609,  96.09900592, 117.58857445, 128.8450151 ,\n",
              "       169.77752658,  66.4229351 , 147.26464527, 102.23888264,\n",
              "       130.89164068, 132.93826625, 100.19225707, 146.24133248,\n",
              "       136.00820461, 204.57016134, 225.03641708, 169.77752658,\n",
              "       130.89164068, 240.38610889, 122.70513838, 189.22046954,\n",
              "        94.05238034, 144.19470691, 116.56526166, 139.07814297,\n",
              "       221.96647872, 128.8450151 , 184.1039056 , 185.12721839,\n",
              "       115.54194887, 114.51863608, 150.33458363, 122.70513838,\n",
              "       108.37875936, 153.40452199, 213.77997642, 190.24378232,\n",
              "       129.86832789, 202.52353577, 190.24378232, 132.93826625,\n",
              "       165.68427544, 119.63520002, 158.52108593, 156.47446035,\n",
              "       181.03396724, 201.50022298, 210.71003806, 145.2180197 ,\n",
              "       157.49777314, 203.54684855, 144.19470691, 260.85236463,\n",
              "       215.826602  ,  99.16894428, 181.03396724, 127.82170232,\n",
              "       251.64254954, 146.24133248, 107.35544658, 106.33213379,\n",
              "       233.22291938, 140.10145576, 120.65851281, 145.2180197 ,\n",
              "       139.07814297, 208.66341249, 172.84746494, 169.77752658,\n",
              "       141.12476855, 149.31127084, 168.7542138 , 123.72845117,\n",
              "       132.93826625,  97.12231871, 209.68672528, 113.4953233 ,\n",
              "        83.81925247,  99.16894428, 195.36034626, 143.17139412,\n",
              "       120.65851281, 199.45359741,  71.53949903, 157.49777314,\n",
              "       171.82415216, 145.2180197 , 251.64254954, 128.8450151 ,\n",
              "       146.24133248, 115.54194887, 282.34193315, 314.06462955,\n",
              "       154.42783478, 188.19715675,  97.12231871, 143.17139412,\n",
              "       129.86832789, 142.14808133, 119.63520002, 149.31127084,\n",
              "       216.84991479, 161.59102429, 154.42783478, 115.54194887,\n",
              "       176.94071609,  67.44624788, 209.68672528, 124.75176395,\n",
              "       123.72845117, 133.96157904, 113.4953233 , 166.70758822,\n",
              "       128.8450151 , 153.40452199, 217.87322757,  85.86587805,\n",
              "       123.72845117, 108.37875936, 169.77752658, 153.40452199,\n",
              "       122.70513838, 148.28795806, 166.70758822, 173.87077773,\n",
              "       195.36034626, 109.40207215, 120.65851281, 244.47936004,\n",
              "       203.54684855, 269.03886692,  75.63275018, 240.38610889,\n",
              "       104.28550821, 141.12476855, 125.77507674, 207.6400997 ,\n",
              "       233.22291938, 151.35789642, 158.52108593, 160.5677115 ,\n",
              "       228.10635544, 219.91985315, 128.8450151 , 100.19225707,\n",
              "       117.58857445, 167.73090101, 226.05972987, 114.51863608,\n",
              "       162.61433707, 113.4953233 , 119.63520002, 157.49777314,\n",
              "       236.29285774, 120.65851281,  98.14563149, 122.70513838,\n",
              "       204.57016134,  95.07569313, 153.40452199, 129.86832789,\n",
              "        81.7726269 , 170.80083937, 137.0315174 , 137.0315174 ,\n",
              "       189.22046954,  82.79593969])"
            ]
          },
          "metadata": {},
          "execution_count": 82
        }
      ]
    },
    {
      "cell_type": "code",
      "source": [
        "plt.scatter(X,Y,c='red')\n",
        "plt.plot(X,y)"
      ],
      "metadata": {
        "colab": {
          "base_uri": "https://localhost:8080/",
          "height": 282
        },
        "id": "bNUCEpACqO3M",
        "outputId": "c405138a-0aee-4c52-828f-9aad7da6cd46"
      },
      "execution_count": 83,
      "outputs": [
        {
          "output_type": "execute_result",
          "data": {
            "text/plain": [
              "[<matplotlib.lines.Line2D at 0x7fd81289e390>]"
            ]
          },
          "metadata": {},
          "execution_count": 83
        },
        {
          "output_type": "display_data",
          "data": {
            "text/plain": [
              "<Figure size 432x288 with 1 Axes>"
            ],
            "image/png": "[encoded data removed]"
          },
          "metadata": {
            "needs_background": "light"
          }
        }
      ]
    },
    {
      "cell_type": "code",
      "source": [
        "# calculating R-squared value for measuring goodness of our model. \n",
        "\n",
        "ss_t = 0 #total sum of squares\n",
        "ss_r = 0 #total sum of square of residuals\n",
        "\n",
        "for i in range(len(X)): \n",
        "  y_pred = c + m * X[i]\n",
        "  ss_t += (Y[i] - mean_y) ** 2\n",
        "  ss_r += (Y[i] - y_pred) ** 2\n",
        "r2 = 1 - (ss_r/ss_t)\n",
        "\n",
        "print(r2)\n"
      ],
      "metadata": {
        "colab": {
          "base_uri": "https://localhost:8080/"
        },
        "id": "WJnpS8PWgvgA",
        "outputId": "a1e93d16-2e8d-4dcc-ff4e-fad63e2f24aa"
      },
      "execution_count": 84,
      "outputs": [
        {
          "output_type": "stream",
          "name": "stdout",
          "text": [
            "0.3439237602253802\n"
          ]
        }
      ]
    },
    {
      "cell_type": "code",
      "source": [
        ""
      ],
      "metadata": {
        "id": "26gEOOJlhcZV"
      },
      "execution_count": 55,
      "outputs": []
    },
    {
      "cell_type": "code",
      "source": [
        ""
      ],
      "metadata": {
        "id": "4WpPOMHkmXF4"
      },
      "execution_count": null,
      "outputs": []
    }
  ]
}